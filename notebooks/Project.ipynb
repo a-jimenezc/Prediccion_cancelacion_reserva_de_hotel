{
 "cells": [
  {
   "attachments": {},
   "cell_type": "markdown",
   "id": "ec093e6a",
   "metadata": {},
   "source": [
    "## Predicción de Cancelación de Reserva de Hotel"
   ]
  },
  {
   "attachments": {},
   "cell_type": "markdown",
   "id": "0acaf589",
   "metadata": {},
   "source": [
    "#### Objetivo"
   ]
  },
  {
   "attachments": {},
   "cell_type": "markdown",
   "id": "d4b26a0a",
   "metadata": {},
   "source": [
    "El objetivo del presente trabajo es desarrollar un modelo que permita predecir si un cliente cancelará o no su reservación de hotel. Se prioriza la capacidad de predicción del modelo sobre la explicabilidad."
   ]
  },
  {
   "cell_type": "code",
   "execution_count": 112,
   "id": "5cdc99ca-18b0-4d1f-9b70-1fd5448f0a41",
   "metadata": {},
   "outputs": [],
   "source": [
    "import pandas as pd\n",
    "import numpy as np\n",
    "import seaborn as sns\n",
    "import matplotlib.pyplot as plt\n",
    "import os\n",
    "\n",
    "def warn(*args, **kwargs):\n",
    "    pass\n",
    "import warnings\n",
    "warnings.warn = warn"
   ]
  },
  {
   "attachments": {},
   "cell_type": "markdown",
   "id": "dbbeb20f",
   "metadata": {},
   "source": [
    "#### Datos"
   ]
  },
  {
   "attachments": {},
   "cell_type": "markdown",
   "id": "92616ccd",
   "metadata": {},
   "source": [
    "El conjutno de datos fue descargado de Kaggle. Estos se encuentran bajo el nombre \"Hotel Reservations Dataset\" y cuenta con 36275 observaciones. Los atributos de las reservas de los clientes son los siguientes:\n",
    "\n",
    "Booking_ID: identificador único de cada reserva.\n",
    "\n",
    "no_of_adults: número de adultos.\n",
    "\n",
    "no_of_children: número de niños.\n",
    "\n",
    "no_of_weekend_nights: número de noches de fin de semana (sábado o domingo) que el huésped se quedó o reservó para quedarse en el hotel.\n",
    "\n",
    "no_of_week_nights: número de noches de semana (de lunes a viernes) que el huésped se quedó o reservó para quedarse en el hotel.\n",
    "\n",
    "type_of_meal_plan: tipo de plan de comidas reservado por el cliente.\n",
    "\n",
    "required_car_parking_space: ¿El cliente requiere espacio de estacionamiento para automóviles? (0 - No, 1- Sí).\n",
    "\n",
    "room_type_reserved: tipo de habitación reservada por el cliente. Los valores están codificados por INN Hotels.\n",
    "\n",
    "lead_time: número de días entre la fecha de reserva y la fecha de llegada.\n",
    "\n",
    "arrival_year: año de la fecha de llegada.\n",
    "\n",
    "arrival_month: mes de la fecha de llegada.\n",
    "\n",
    "arrival_date: día del mes de la fecha de llegada.\n",
    "\n",
    "market_segment_type: designación del segmento de mercado.\n",
    "\n",
    "repeated_guest: ¿El cliente es un huésped repetido? (0 - No, 1- Sí).\n",
    "\n",
    "no_of_previous_cancellations: número de reservas anteriores canceladas por el cliente antes de la reserva actual.\n",
    "\n",
    "no_of_previous_bookings_not_canceled: número de reservas anteriores no canceladas por el cliente antes de la reserva actual.\n",
    "\n",
    "avg_price_per_room: precio promedio por día de la reserva; los precios de las habitaciones son dinámicos (en euros).\n",
    "\n",
    "no_of_special_requests: número total de solicitudes especiales realizadas por el cliente (por ejemplo, piso alto, vista desde la habitación, etc.).\n",
    "\n",
    "booking_status: indicador de si la reserva fue cancelada o no.\n",
    "\n",
    "Para mayor información consultar con el diccionario de datos en la carpeta referencias."
   ]
  },
  {
   "attachments": {},
   "cell_type": "markdown",
   "id": "b6f0359b",
   "metadata": {},
   "source": [
    "#### Exploración Inicial de Datos"
   ]
  },
  {
   "attachments": {},
   "cell_type": "markdown",
   "id": "976b70a2",
   "metadata": {},
   "source": [
    "En este apartado, se realizará una exploración inicial de los datos. Esto para tener una idea de la naturaleza de los mismos, previo a la construcción del modelo."
   ]
  },
  {
   "cell_type": "code",
   "execution_count": 113,
   "id": "08c0aa05-fc19-4c53-8083-c78bdb31016a",
   "metadata": {},
   "outputs": [],
   "source": [
    "data_path = os.path.join(os.getcwd(), '../data/HOtel Reservations.csv')\n",
    "df = pd.read_csv(data_path)"
   ]
  },
  {
   "cell_type": "code",
   "execution_count": 114,
   "id": "247086f8",
   "metadata": {},
   "outputs": [
    {
     "data": {
      "text/html": [
       "<div>\n",
       "<style scoped>\n",
       "    .dataframe tbody tr th:only-of-type {\n",
       "        vertical-align: middle;\n",
       "    }\n",
       "\n",
       "    .dataframe tbody tr th {\n",
       "        vertical-align: top;\n",
       "    }\n",
       "\n",
       "    .dataframe thead th {\n",
       "        text-align: right;\n",
       "    }\n",
       "</style>\n",
       "<table border=\"1\" class=\"dataframe\">\n",
       "  <thead>\n",
       "    <tr style=\"text-align: right;\">\n",
       "      <th></th>\n",
       "      <th>Booking_ID</th>\n",
       "      <th>no_of_adults</th>\n",
       "      <th>no_of_children</th>\n",
       "      <th>no_of_weekend_nights</th>\n",
       "      <th>no_of_week_nights</th>\n",
       "      <th>type_of_meal_plan</th>\n",
       "      <th>required_car_parking_space</th>\n",
       "      <th>room_type_reserved</th>\n",
       "      <th>lead_time</th>\n",
       "      <th>arrival_year</th>\n",
       "      <th>arrival_month</th>\n",
       "      <th>arrival_date</th>\n",
       "      <th>market_segment_type</th>\n",
       "      <th>repeated_guest</th>\n",
       "      <th>no_of_previous_cancellations</th>\n",
       "      <th>no_of_previous_bookings_not_canceled</th>\n",
       "      <th>avg_price_per_room</th>\n",
       "      <th>no_of_special_requests</th>\n",
       "      <th>booking_status</th>\n",
       "    </tr>\n",
       "  </thead>\n",
       "  <tbody>\n",
       "    <tr>\n",
       "      <th>0</th>\n",
       "      <td>object</td>\n",
       "      <td>int64</td>\n",
       "      <td>int64</td>\n",
       "      <td>int64</td>\n",
       "      <td>int64</td>\n",
       "      <td>object</td>\n",
       "      <td>int64</td>\n",
       "      <td>object</td>\n",
       "      <td>int64</td>\n",
       "      <td>int64</td>\n",
       "      <td>int64</td>\n",
       "      <td>int64</td>\n",
       "      <td>object</td>\n",
       "      <td>int64</td>\n",
       "      <td>int64</td>\n",
       "      <td>int64</td>\n",
       "      <td>float64</td>\n",
       "      <td>int64</td>\n",
       "      <td>object</td>\n",
       "    </tr>\n",
       "  </tbody>\n",
       "</table>\n",
       "</div>"
      ],
      "text/plain": [
       "  Booking_ID no_of_adults no_of_children no_of_weekend_nights  \\\n",
       "0     object        int64          int64                int64   \n",
       "\n",
       "  no_of_week_nights type_of_meal_plan required_car_parking_space  \\\n",
       "0             int64            object                      int64   \n",
       "\n",
       "  room_type_reserved lead_time arrival_year arrival_month arrival_date  \\\n",
       "0             object     int64        int64         int64        int64   \n",
       "\n",
       "  market_segment_type repeated_guest no_of_previous_cancellations  \\\n",
       "0              object          int64                        int64   \n",
       "\n",
       "  no_of_previous_bookings_not_canceled avg_price_per_room  \\\n",
       "0                                int64            float64   \n",
       "\n",
       "  no_of_special_requests booking_status  \n",
       "0                  int64         object  "
      ]
     },
     "execution_count": 114,
     "metadata": {},
     "output_type": "execute_result"
    }
   ],
   "source": [
    "# Nombres de columnas y datatypes\n",
    "df.dtypes.to_frame().T"
   ]
  },
  {
   "cell_type": "code",
   "execution_count": 115,
   "id": "c8414744",
   "metadata": {},
   "outputs": [
    {
     "data": {
      "text/html": [
       "<div>\n",
       "<style scoped>\n",
       "    .dataframe tbody tr th:only-of-type {\n",
       "        vertical-align: middle;\n",
       "    }\n",
       "\n",
       "    .dataframe tbody tr th {\n",
       "        vertical-align: top;\n",
       "    }\n",
       "\n",
       "    .dataframe thead th {\n",
       "        text-align: right;\n",
       "    }\n",
       "</style>\n",
       "<table border=\"1\" class=\"dataframe\">\n",
       "  <thead>\n",
       "    <tr style=\"text-align: right;\">\n",
       "      <th></th>\n",
       "      <th>Booking_ID</th>\n",
       "      <th>no_of_adults</th>\n",
       "      <th>no_of_children</th>\n",
       "      <th>no_of_weekend_nights</th>\n",
       "      <th>no_of_week_nights</th>\n",
       "      <th>type_of_meal_plan</th>\n",
       "      <th>required_car_parking_space</th>\n",
       "      <th>room_type_reserved</th>\n",
       "      <th>lead_time</th>\n",
       "      <th>arrival_year</th>\n",
       "      <th>arrival_month</th>\n",
       "      <th>arrival_date</th>\n",
       "      <th>market_segment_type</th>\n",
       "      <th>repeated_guest</th>\n",
       "      <th>no_of_previous_cancellations</th>\n",
       "      <th>no_of_previous_bookings_not_canceled</th>\n",
       "      <th>avg_price_per_room</th>\n",
       "      <th>no_of_special_requests</th>\n",
       "      <th>booking_status</th>\n",
       "    </tr>\n",
       "  </thead>\n",
       "  <tbody>\n",
       "    <tr>\n",
       "      <th>0</th>\n",
       "      <td>INN00001</td>\n",
       "      <td>2</td>\n",
       "      <td>0</td>\n",
       "      <td>1</td>\n",
       "      <td>2</td>\n",
       "      <td>Meal Plan 1</td>\n",
       "      <td>0</td>\n",
       "      <td>Room_Type 1</td>\n",
       "      <td>224</td>\n",
       "      <td>2017</td>\n",
       "      <td>10</td>\n",
       "      <td>2</td>\n",
       "      <td>Offline</td>\n",
       "      <td>0</td>\n",
       "      <td>0</td>\n",
       "      <td>0</td>\n",
       "      <td>65.00</td>\n",
       "      <td>0</td>\n",
       "      <td>Not_Canceled</td>\n",
       "    </tr>\n",
       "    <tr>\n",
       "      <th>1</th>\n",
       "      <td>INN00002</td>\n",
       "      <td>2</td>\n",
       "      <td>0</td>\n",
       "      <td>2</td>\n",
       "      <td>3</td>\n",
       "      <td>Not Selected</td>\n",
       "      <td>0</td>\n",
       "      <td>Room_Type 1</td>\n",
       "      <td>5</td>\n",
       "      <td>2018</td>\n",
       "      <td>11</td>\n",
       "      <td>6</td>\n",
       "      <td>Online</td>\n",
       "      <td>0</td>\n",
       "      <td>0</td>\n",
       "      <td>0</td>\n",
       "      <td>106.68</td>\n",
       "      <td>1</td>\n",
       "      <td>Not_Canceled</td>\n",
       "    </tr>\n",
       "    <tr>\n",
       "      <th>2</th>\n",
       "      <td>INN00003</td>\n",
       "      <td>1</td>\n",
       "      <td>0</td>\n",
       "      <td>2</td>\n",
       "      <td>1</td>\n",
       "      <td>Meal Plan 1</td>\n",
       "      <td>0</td>\n",
       "      <td>Room_Type 1</td>\n",
       "      <td>1</td>\n",
       "      <td>2018</td>\n",
       "      <td>2</td>\n",
       "      <td>28</td>\n",
       "      <td>Online</td>\n",
       "      <td>0</td>\n",
       "      <td>0</td>\n",
       "      <td>0</td>\n",
       "      <td>60.00</td>\n",
       "      <td>0</td>\n",
       "      <td>Canceled</td>\n",
       "    </tr>\n",
       "  </tbody>\n",
       "</table>\n",
       "</div>"
      ],
      "text/plain": [
       "  Booking_ID  no_of_adults  no_of_children  no_of_weekend_nights  \\\n",
       "0   INN00001             2               0                     1   \n",
       "1   INN00002             2               0                     2   \n",
       "2   INN00003             1               0                     2   \n",
       "\n",
       "   no_of_week_nights type_of_meal_plan  required_car_parking_space  \\\n",
       "0                  2       Meal Plan 1                           0   \n",
       "1                  3      Not Selected                           0   \n",
       "2                  1       Meal Plan 1                           0   \n",
       "\n",
       "  room_type_reserved  lead_time  arrival_year  arrival_month  arrival_date  \\\n",
       "0        Room_Type 1        224          2017             10             2   \n",
       "1        Room_Type 1          5          2018             11             6   \n",
       "2        Room_Type 1          1          2018              2            28   \n",
       "\n",
       "  market_segment_type  repeated_guest  no_of_previous_cancellations  \\\n",
       "0             Offline               0                             0   \n",
       "1              Online               0                             0   \n",
       "2              Online               0                             0   \n",
       "\n",
       "   no_of_previous_bookings_not_canceled  avg_price_per_room  \\\n",
       "0                                     0               65.00   \n",
       "1                                     0              106.68   \n",
       "2                                     0               60.00   \n",
       "\n",
       "   no_of_special_requests booking_status  \n",
       "0                       0   Not_Canceled  \n",
       "1                       1   Not_Canceled  \n",
       "2                       0       Canceled  "
      ]
     },
     "execution_count": 115,
     "metadata": {},
     "output_type": "execute_result"
    }
   ],
   "source": [
    "# Viendo un subconjunto de los datos\n",
    "df.head(3)"
   ]
  },
  {
   "attachments": {},
   "cell_type": "markdown",
   "id": "350424a8",
   "metadata": {},
   "source": [
    "Primero, es necesario lidiar con datos faltantes."
   ]
  },
  {
   "cell_type": "code",
   "execution_count": 116,
   "id": "3e40c3d7-853d-4a1b-8197-7a33451bbf3f",
   "metadata": {},
   "outputs": [
    {
     "data": {
      "text/html": [
       "<div>\n",
       "<style scoped>\n",
       "    .dataframe tbody tr th:only-of-type {\n",
       "        vertical-align: middle;\n",
       "    }\n",
       "\n",
       "    .dataframe tbody tr th {\n",
       "        vertical-align: top;\n",
       "    }\n",
       "\n",
       "    .dataframe thead th {\n",
       "        text-align: right;\n",
       "    }\n",
       "</style>\n",
       "<table border=\"1\" class=\"dataframe\">\n",
       "  <thead>\n",
       "    <tr style=\"text-align: right;\">\n",
       "      <th></th>\n",
       "      <th>Booking_ID</th>\n",
       "      <th>no_of_adults</th>\n",
       "      <th>no_of_children</th>\n",
       "      <th>no_of_weekend_nights</th>\n",
       "      <th>no_of_week_nights</th>\n",
       "      <th>type_of_meal_plan</th>\n",
       "      <th>required_car_parking_space</th>\n",
       "      <th>room_type_reserved</th>\n",
       "      <th>lead_time</th>\n",
       "      <th>arrival_year</th>\n",
       "      <th>arrival_month</th>\n",
       "      <th>arrival_date</th>\n",
       "      <th>market_segment_type</th>\n",
       "      <th>repeated_guest</th>\n",
       "      <th>no_of_previous_cancellations</th>\n",
       "      <th>no_of_previous_bookings_not_canceled</th>\n",
       "      <th>avg_price_per_room</th>\n",
       "      <th>no_of_special_requests</th>\n",
       "      <th>booking_status</th>\n",
       "    </tr>\n",
       "  </thead>\n",
       "  <tbody>\n",
       "    <tr>\n",
       "      <th>0</th>\n",
       "      <td>0</td>\n",
       "      <td>0</td>\n",
       "      <td>0</td>\n",
       "      <td>0</td>\n",
       "      <td>0</td>\n",
       "      <td>0</td>\n",
       "      <td>0</td>\n",
       "      <td>0</td>\n",
       "      <td>0</td>\n",
       "      <td>0</td>\n",
       "      <td>0</td>\n",
       "      <td>0</td>\n",
       "      <td>0</td>\n",
       "      <td>0</td>\n",
       "      <td>0</td>\n",
       "      <td>0</td>\n",
       "      <td>0</td>\n",
       "      <td>0</td>\n",
       "      <td>0</td>\n",
       "    </tr>\n",
       "  </tbody>\n",
       "</table>\n",
       "</div>"
      ],
      "text/plain": [
       "   Booking_ID  no_of_adults  no_of_children  no_of_weekend_nights  \\\n",
       "0           0             0               0                     0   \n",
       "\n",
       "   no_of_week_nights  type_of_meal_plan  required_car_parking_space  \\\n",
       "0                  0                  0                           0   \n",
       "\n",
       "   room_type_reserved  lead_time  arrival_year  arrival_month  arrival_date  \\\n",
       "0                   0          0             0              0             0   \n",
       "\n",
       "   market_segment_type  repeated_guest  no_of_previous_cancellations  \\\n",
       "0                    0               0                             0   \n",
       "\n",
       "   no_of_previous_bookings_not_canceled  avg_price_per_room  \\\n",
       "0                                     0                   0   \n",
       "\n",
       "   no_of_special_requests  booking_status  \n",
       "0                       0               0  "
      ]
     },
     "execution_count": 116,
     "metadata": {},
     "output_type": "execute_result"
    }
   ],
   "source": [
    "# Revisando datos faltantes\n",
    "df.isnull().sum().to_frame().T"
   ]
  },
  {
   "attachments": {},
   "cell_type": "markdown",
   "id": "482ddf7a",
   "metadata": {},
   "source": [
    "La variable objetivo es \"booking_status\". Es importante examinar la correlación de esta varible con las demás."
   ]
  },
  {
   "cell_type": "code",
   "execution_count": 117,
   "id": "f9419d77-8a08-4df3-9e20-2b246a0a60c4",
   "metadata": {},
   "outputs": [
    {
     "data": {
      "text/plain": [
       "[(0.0, 1.0), Text(0, 0.5, 'pearson correlation')]"
      ]
     },
     "execution_count": 117,
     "metadata": {},
     "output_type": "execute_result"
    },
    {
     "data": {
      "image/png": "[encoded data removed]",
      "text/plain": [
       "<Figure size 640x480 with 1 Axes>"
      ]
     },
     "metadata": {},
     "output_type": "display_data"
    }
   ],
   "source": [
    "# Cambiando el código de la variable objetivo\n",
    "df.booking_status.replace('Not_Canceled',0, inplace=True)\n",
    "df.booking_status.replace('Canceled',1, inplace=True)\n",
    "\n",
    "# Visualizando objetivos\n",
    "correlations = df.corr(numeric_only=True).booking_status\n",
    "correlations = correlations.abs().sort_values(ascending=False)\n",
    "ax = correlations.plot(kind='bar')\n",
    "ax.set(ylim=[0, 1], ylabel='pearson correlation')"
   ]
  },
  {
   "attachments": {},
   "cell_type": "markdown",
   "id": "ec024c48",
   "metadata": {},
   "source": [
    "Las primeras 5 variables son las más correlacionadas con la variable objetivo. Por lo que se procederá a hacer una exploración visual más detallada de las mismas."
   ]
  },
  {
   "cell_type": "code",
   "execution_count": 118,
   "id": "7aa9a74b-ac1b-45a7-acbd-da11cfaac985",
   "metadata": {},
   "outputs": [
    {
     "data": {
      "text/html": [
       "<div>\n",
       "<style scoped>\n",
       "    .dataframe tbody tr th:only-of-type {\n",
       "        vertical-align: middle;\n",
       "    }\n",
       "\n",
       "    .dataframe tbody tr th {\n",
       "        vertical-align: top;\n",
       "    }\n",
       "\n",
       "    .dataframe thead th {\n",
       "        text-align: right;\n",
       "    }\n",
       "</style>\n",
       "<table border=\"1\" class=\"dataframe\">\n",
       "  <thead>\n",
       "    <tr style=\"text-align: right;\">\n",
       "      <th></th>\n",
       "      <th>booking_status</th>\n",
       "      <th>lead_time</th>\n",
       "      <th>no_of_special_requests</th>\n",
       "      <th>arrival_year</th>\n",
       "      <th>avg_price_per_room</th>\n",
       "      <th>repeated_guest</th>\n",
       "      <th>arrival_month</th>\n",
       "    </tr>\n",
       "  </thead>\n",
       "  <tbody>\n",
       "    <tr>\n",
       "      <th>0</th>\n",
       "      <td>0</td>\n",
       "      <td>224</td>\n",
       "      <td>0</td>\n",
       "      <td>2017</td>\n",
       "      <td>65.00</td>\n",
       "      <td>0</td>\n",
       "      <td>10</td>\n",
       "    </tr>\n",
       "    <tr>\n",
       "      <th>1</th>\n",
       "      <td>0</td>\n",
       "      <td>5</td>\n",
       "      <td>1</td>\n",
       "      <td>2018</td>\n",
       "      <td>106.68</td>\n",
       "      <td>0</td>\n",
       "      <td>11</td>\n",
       "    </tr>\n",
       "  </tbody>\n",
       "</table>\n",
       "</div>"
      ],
      "text/plain": [
       "   booking_status  lead_time  no_of_special_requests  arrival_year  \\\n",
       "0               0        224                       0          2017   \n",
       "1               0          5                       1          2018   \n",
       "\n",
       "   avg_price_per_room  repeated_guest  arrival_month  \n",
       "0               65.00               0             10  \n",
       "1              106.68               0             11  "
      ]
     },
     "execution_count": 118,
     "metadata": {},
     "output_type": "execute_result"
    }
   ],
   "source": [
    "features = correlations.index[:6]\n",
    "df_features = df[features]\n",
    "df_features['arrival_month'] = df['arrival_month']\n",
    "df_features.head(2)"
   ]
  },
  {
   "attachments": {},
   "cell_type": "markdown",
   "id": "39687040",
   "metadata": {},
   "source": [
    "Se examinan las correlaciones entre las variables escogidas, incluyendo la variable objetivo."
   ]
  },
  {
   "cell_type": "code",
   "execution_count": 119,
   "id": "bcc56c5c-dc90-44cf-8f87-178ed9f53323",
   "metadata": {},
   "outputs": [
    {
     "data": {
      "text/plain": [
       "<AxesSubplot: >"
      ]
     },
     "execution_count": 119,
     "metadata": {},
     "output_type": "execute_result"
    },
    {
     "data": {
      "image/png": "[encoded data removed]",
      "text/plain": [
       "<Figure size 640x480 with 2 Axes>"
      ]
     },
     "metadata": {},
     "output_type": "display_data"
    }
   ],
   "source": [
    "sns.heatmap(df_features.corr())"
   ]
  },
  {
   "attachments": {},
   "cell_type": "markdown",
   "id": "b42cf529",
   "metadata": {},
   "source": [
    "Ahora, se examinan los gráficos de cajas respecto a la variable objetivo. Esto para poder visulizar la relación entre ellas."
   ]
  },
  {
   "cell_type": "code",
   "execution_count": 120,
   "id": "fb554a5c-5e2a-4675-b02e-4eabc7b555df",
   "metadata": {},
   "outputs": [
    {
     "data": {
      "text/plain": [
       "<AxesSubplot: xlabel='booking_status', ylabel='lead_time'>"
      ]
     },
     "execution_count": 120,
     "metadata": {},
     "output_type": "execute_result"
    },
    {
     "data": {
      "image/png": "[encoded data removed]",
      "text/plain": [
       "<Figure size 640x480 with 1 Axes>"
      ]
     },
     "metadata": {},
     "output_type": "display_data"
    }
   ],
   "source": [
    "sns.boxplot(x=df_features.booking_status, y=df.lead_time)"
   ]
  },
  {
   "cell_type": "code",
   "execution_count": 121,
   "id": "380df69b-2f29-421d-9933-9624f1ec28fb",
   "metadata": {},
   "outputs": [
    {
     "data": {
      "text/plain": [
       "<AxesSubplot: xlabel='booking_status', ylabel='avg_price_per_room'>"
      ]
     },
     "execution_count": 121,
     "metadata": {},
     "output_type": "execute_result"
    },
    {
     "data": {
      "image/png": "[encoded data removed]",
      "text/plain": [
       "<Figure size 640x480 with 1 Axes>"
      ]
     },
     "metadata": {},
     "output_type": "display_data"
    }
   ],
   "source": [
    "sns.boxplot(x=df_features.booking_status, y=df.avg_price_per_room)"
   ]
  },
  {
   "cell_type": "code",
   "execution_count": 122,
   "id": "f0f514db-87ad-46df-b550-b8c9544ca76e",
   "metadata": {},
   "outputs": [
    {
     "data": {
      "text/plain": [
       "<AxesSubplot: xlabel='booking_status', ylabel='lead_time'>"
      ]
     },
     "execution_count": 122,
     "metadata": {},
     "output_type": "execute_result"
    },
    {
     "data": {
      "image/png": "[encoded data removed]",
      "text/plain": [
       "<Figure size 640x480 with 1 Axes>"
      ]
     },
     "metadata": {},
     "output_type": "display_data"
    }
   ],
   "source": [
    "sns.boxplot(x=df_features.booking_status, y=df.lead_time)"
   ]
  },
  {
   "attachments": {},
   "cell_type": "markdown",
   "id": "af58ed15",
   "metadata": {},
   "source": [
    "De los anteriores gráficos, se puede ver que las variables escogidas sí guardan una relación con la variable objetivo. Por lo que se tomarán estas como las variables predictoras en la construcción del modelo. Adicionalmente, se tomará el mes de llegada como una sexta variable debido a la naturaleza estacionaria de las reservas de hotel."
   ]
  },
  {
   "cell_type": "code",
   "execution_count": 123,
   "id": "276e37f2",
   "metadata": {},
   "outputs": [
    {
     "data": {
      "text/plain": [
       "<AxesSubplot: ylabel='booking_status'>"
      ]
     },
     "execution_count": 123,
     "metadata": {},
     "output_type": "execute_result"
    },
    {
     "data": {
      "image/png": "[encoded data removed]",
      "text/plain": [
       "<Figure size 640x480 with 1 Axes>"
      ]
     },
     "metadata": {},
     "output_type": "display_data"
    }
   ],
   "source": [
    "sns.barplot(x=[\"No cancelado\",\"Cancelado\"], y=df.booking_status.value_counts())"
   ]
  },
  {
   "attachments": {},
   "cell_type": "markdown",
   "id": "4bcf29cf",
   "metadata": {},
   "source": [
    "#### Construcción de los Modelos de Clasificación"
   ]
  },
  {
   "attachments": {},
   "cell_type": "markdown",
   "id": "1be1d9e7",
   "metadata": {},
   "source": [
    "En este caso, se construirán cuatro modelos diferentes: Logistic Regression, K-Nearest Neighbor, Extra Tree Classifier, Gradient Boosing. Se plantea entrenar algoritmos de diferente naturaleza para encontrar el que de mejores resultados."
   ]
  },
  {
   "attachments": {},
   "cell_type": "markdown",
   "id": "8745431a",
   "metadata": {},
   "source": [
    "Antes de construir los modelos, es necesario preprocesar los datos. "
   ]
  },
  {
   "cell_type": "code",
   "execution_count": 159,
   "id": "aad904a2-26fd-4ee3-9725-1a97e69fab7e",
   "metadata": {},
   "outputs": [
    {
     "data": {
      "text/html": [
       "<div>\n",
       "<style scoped>\n",
       "    .dataframe tbody tr th:only-of-type {\n",
       "        vertical-align: middle;\n",
       "    }\n",
       "\n",
       "    .dataframe tbody tr th {\n",
       "        vertical-align: top;\n",
       "    }\n",
       "\n",
       "    .dataframe thead th {\n",
       "        text-align: right;\n",
       "    }\n",
       "</style>\n",
       "<table border=\"1\" class=\"dataframe\">\n",
       "  <thead>\n",
       "    <tr style=\"text-align: right;\">\n",
       "      <th></th>\n",
       "      <th>booking_status</th>\n",
       "      <th>lead_time</th>\n",
       "      <th>no_of_special_requests</th>\n",
       "      <th>arrival_year</th>\n",
       "      <th>avg_price_per_room</th>\n",
       "      <th>repeated_guest</th>\n",
       "      <th>arrival_month</th>\n",
       "    </tr>\n",
       "  </thead>\n",
       "  <tbody>\n",
       "    <tr>\n",
       "      <th>0</th>\n",
       "      <td>int64</td>\n",
       "      <td>int64</td>\n",
       "      <td>int64</td>\n",
       "      <td>int64</td>\n",
       "      <td>float64</td>\n",
       "      <td>int64</td>\n",
       "      <td>int64</td>\n",
       "    </tr>\n",
       "  </tbody>\n",
       "</table>\n",
       "</div>"
      ],
      "text/plain": [
       "  booking_status lead_time no_of_special_requests arrival_year  \\\n",
       "0          int64     int64                  int64        int64   \n",
       "\n",
       "  avg_price_per_room repeated_guest arrival_month  \n",
       "0            float64          int64         int64  "
      ]
     },
     "execution_count": 159,
     "metadata": {},
     "output_type": "execute_result"
    }
   ],
   "source": [
    "#start building a model\n",
    "from sklearn.model_selection import train_test_split\n",
    "from sklearn.preprocessing import LabelEncoder\n",
    "from sklearn.preprocessing import StandardScaler\n",
    "\n",
    "df_features.dtypes.to_frame().T"
   ]
  },
  {
   "attachments": {},
   "cell_type": "markdown",
   "id": "8c2100b6",
   "metadata": {},
   "source": [
    "Se removerá \"arrival_year\", dado que solo se tienen datos de dos años."
   ]
  },
  {
   "cell_type": "code",
   "execution_count": 160,
   "id": "9a9633a8",
   "metadata": {},
   "outputs": [],
   "source": [
    "# Separando la variable objetivo\n",
    "# removiendo \"arrival_year\" como predictor\n",
    "y = df_features.booking_status\n",
    "X = df_features.drop(['booking_status','arrival_year'], axis=1)"
   ]
  },
  {
   "cell_type": "code",
   "execution_count": 161,
   "id": "ec284661",
   "metadata": {},
   "outputs": [],
   "source": [
    "# Preprocesando los datos\n",
    "from sklearn.preprocessing import StandardScaler, OneHotEncoder, OrdinalEncoder\n",
    "from sklearn.compose import ColumnTransformer\n",
    "from sklearn.pipeline import Pipeline\n",
    "from sklearn.impute import SimpleImputer\n",
    "\n",
    "# Separando en training set y test set\n",
    "X_train, X_test, y_train, y_test = train_test_split(X, y, test_size=0.3)\n",
    "\n",
    "# Preprocesando las variables independientes\n",
    "numeric_cols = ['lead_time', 'no_of_special_requests', 'avg_price_per_room',\n",
    "       'repeated_guest']\n",
    "cat_cols = ['arrival_month']\n",
    "\n",
    "numeric_transformer = Pipeline([('inputer', SimpleImputer(strategy='mean')),\n",
    "                               ('scaler', StandardScaler())\n",
    "                               ])\n",
    "cat_transformer = Pipeline([('inputer', SimpleImputer(strategy='most_frequent')),\n",
    "                             ('onehot', OneHotEncoder())\n",
    "                            ])\n",
    "\n",
    "preprocessor = ColumnTransformer([('num', numeric_transformer, numeric_cols),\n",
    "                                ('cat', cat_transformer, cat_cols),\n",
    "                                ])\n",
    "\n",
    "scaler = preprocessor.fit(X_train)\n",
    "\n",
    "X_train_scl = scaler.transform(X_train)\n",
    "X_test_scl = scaler.transform(X_test)"
   ]
  },
  {
   "cell_type": "code",
   "execution_count": 162,
   "id": "d0ad0440",
   "metadata": {},
   "outputs": [
    {
     "data": {
      "text/html": [
       "<div>\n",
       "<style scoped>\n",
       "    .dataframe tbody tr th:only-of-type {\n",
       "        vertical-align: middle;\n",
       "    }\n",
       "\n",
       "    .dataframe tbody tr th {\n",
       "        vertical-align: top;\n",
       "    }\n",
       "\n",
       "    .dataframe thead th {\n",
       "        text-align: right;\n",
       "    }\n",
       "</style>\n",
       "<table border=\"1\" class=\"dataframe\">\n",
       "  <thead>\n",
       "    <tr style=\"text-align: right;\">\n",
       "      <th></th>\n",
       "      <th>lead_time</th>\n",
       "      <th>no_of_special_requests</th>\n",
       "      <th>avg_price_per_room</th>\n",
       "      <th>repeated_guest</th>\n",
       "      <th>arrival_month_1</th>\n",
       "      <th>arrival_month_2</th>\n",
       "      <th>arrival_month_3</th>\n",
       "      <th>arrival_month_4</th>\n",
       "      <th>arrival_month_5</th>\n",
       "      <th>arrival_month_6</th>\n",
       "      <th>arrival_month_7</th>\n",
       "      <th>arrival_month_8</th>\n",
       "      <th>arrival_month_9</th>\n",
       "      <th>arrival_month_10</th>\n",
       "      <th>arrival_month_11</th>\n",
       "      <th>arrival_month_12</th>\n",
       "    </tr>\n",
       "  </thead>\n",
       "  <tbody>\n",
       "    <tr>\n",
       "      <th>0</th>\n",
       "      <td>-0.135935</td>\n",
       "      <td>1.759796</td>\n",
       "      <td>0.684738</td>\n",
       "      <td>-0.162339</td>\n",
       "      <td>0.0</td>\n",
       "      <td>0.0</td>\n",
       "      <td>0.0</td>\n",
       "      <td>0.0</td>\n",
       "      <td>0.0</td>\n",
       "      <td>0.0</td>\n",
       "      <td>0.0</td>\n",
       "      <td>0.0</td>\n",
       "      <td>0.0</td>\n",
       "      <td>0.0</td>\n",
       "      <td>0.0</td>\n",
       "      <td>1.0</td>\n",
       "    </tr>\n",
       "    <tr>\n",
       "      <th>1</th>\n",
       "      <td>1.037160</td>\n",
       "      <td>0.487560</td>\n",
       "      <td>-0.510142</td>\n",
       "      <td>-0.162339</td>\n",
       "      <td>0.0</td>\n",
       "      <td>0.0</td>\n",
       "      <td>0.0</td>\n",
       "      <td>0.0</td>\n",
       "      <td>0.0</td>\n",
       "      <td>0.0</td>\n",
       "      <td>1.0</td>\n",
       "      <td>0.0</td>\n",
       "      <td>0.0</td>\n",
       "      <td>0.0</td>\n",
       "      <td>0.0</td>\n",
       "      <td>0.0</td>\n",
       "    </tr>\n",
       "    <tr>\n",
       "      <th>2</th>\n",
       "      <td>0.909397</td>\n",
       "      <td>-0.784676</td>\n",
       "      <td>-0.100550</td>\n",
       "      <td>-0.162339</td>\n",
       "      <td>0.0</td>\n",
       "      <td>0.0</td>\n",
       "      <td>0.0</td>\n",
       "      <td>0.0</td>\n",
       "      <td>0.0</td>\n",
       "      <td>0.0</td>\n",
       "      <td>0.0</td>\n",
       "      <td>0.0</td>\n",
       "      <td>0.0</td>\n",
       "      <td>1.0</td>\n",
       "      <td>0.0</td>\n",
       "      <td>0.0</td>\n",
       "    </tr>\n",
       "  </tbody>\n",
       "</table>\n",
       "</div>"
      ],
      "text/plain": [
       "   lead_time  no_of_special_requests  avg_price_per_room  repeated_guest  \\\n",
       "0  -0.135935                1.759796            0.684738       -0.162339   \n",
       "1   1.037160                0.487560           -0.510142       -0.162339   \n",
       "2   0.909397               -0.784676           -0.100550       -0.162339   \n",
       "\n",
       "   arrival_month_1  arrival_month_2  arrival_month_3  arrival_month_4  \\\n",
       "0              0.0              0.0              0.0              0.0   \n",
       "1              0.0              0.0              0.0              0.0   \n",
       "2              0.0              0.0              0.0              0.0   \n",
       "\n",
       "   arrival_month_5  arrival_month_6  arrival_month_7  arrival_month_8  \\\n",
       "0              0.0              0.0              0.0              0.0   \n",
       "1              0.0              0.0              1.0              0.0   \n",
       "2              0.0              0.0              0.0              0.0   \n",
       "\n",
       "   arrival_month_9  arrival_month_10  arrival_month_11  arrival_month_12  \n",
       "0              0.0               0.0               0.0               1.0  \n",
       "1              0.0               0.0               0.0               0.0  \n",
       "2              0.0               1.0               0.0               0.0  "
      ]
     },
     "execution_count": 162,
     "metadata": {},
     "output_type": "execute_result"
    }
   ],
   "source": [
    "# Inspección visual de las transformaciones\n",
    "df_transf = pd.DataFrame(X_train_scl)\n",
    "\n",
    "# Dando nombre a las columnas\n",
    "def get_column_names(column_transformer):\n",
    "  features_names =[]\n",
    "  for key, value in column_transformer.named_transformers_.items():\n",
    "    if hasattr(value, 'get_feature_names_out'):\n",
    "      features = list(value.get_feature_names_out())\n",
    "      features_names.extend(features)\n",
    "  return features_names\n",
    "\n",
    "# Inspeccionando las nuevas columnas\n",
    "df_transf.columns = get_column_names(preprocessor)\n",
    "df_transf.head(3)"
   ]
  },
  {
   "cell_type": "code",
   "execution_count": 163,
   "id": "d387af04-abc9-46b9-bc20-a0148d53e8d7",
   "metadata": {},
   "outputs": [],
   "source": [
    "# Lista para guardar las métricas\n",
    "training_scores = []\n",
    "test_scores = []"
   ]
  },
  {
   "attachments": {},
   "cell_type": "markdown",
   "id": "5fd23b6d",
   "metadata": {},
   "source": [
    "##### Logistic Regression"
   ]
  },
  {
   "attachments": {},
   "cell_type": "markdown",
   "id": "c42de429",
   "metadata": {},
   "source": [
    "El primero model a construir es \"Logistic Regression\". Se usa \"Grid Search\" con \"Cross Validation\" para encontrar los mejores hiperparámetros."
   ]
  },
  {
   "cell_type": "code",
   "execution_count": 164,
   "id": "7cd9b4a9",
   "metadata": {},
   "outputs": [
    {
     "data": {
      "text/html": [
       "<style>#sk-container-id-20 {color: black;background-color: white;}#sk-container-id-20 pre{padding: 0;}#sk-container-id-20 div.sk-toggleable {background-color: white;}#sk-container-id-20 label.sk-toggleable__label {cursor: pointer;display: block;width: 100%;margin-bottom: 0;padding: 0.3em;box-sizing: border-box;text-align: center;}#sk-container-id-20 label.sk-toggleable__label-arrow:before {content: \"▸\";float: left;margin-right: 0.25em;color: #696969;}#sk-container-id-20 label.sk-toggleable__label-arrow:hover:before {color: black;}#sk-container-id-20 div.sk-estimator:hover label.sk-toggleable__label-arrow:before {color: black;}#sk-container-id-20 div.sk-toggleable__content {max-height: 0;max-width: 0;overflow: hidden;text-align: left;background-color: #f0f8ff;}#sk-container-id-20 div.sk-toggleable__content pre {margin: 0.2em;color: black;border-radius: 0.25em;background-color: #f0f8ff;}#sk-container-id-20 input.sk-toggleable__control:checked~div.sk-toggleable__content {max-height: 200px;max-width: 100%;overflow: auto;}#sk-container-id-20 input.sk-toggleable__control:checked~label.sk-toggleable__label-arrow:before {content: \"▾\";}#sk-container-id-20 div.sk-estimator input.sk-toggleable__control:checked~label.sk-toggleable__label {background-color: #d4ebff;}#sk-container-id-20 div.sk-label input.sk-toggleable__control:checked~label.sk-toggleable__label {background-color: #d4ebff;}#sk-container-id-20 input.sk-hidden--visually {border: 0;clip: rect(1px 1px 1px 1px);clip: rect(1px, 1px, 1px, 1px);height: 1px;margin: -1px;overflow: hidden;padding: 0;position: absolute;width: 1px;}#sk-container-id-20 div.sk-estimator {font-family: monospace;background-color: #f0f8ff;border: 1px dotted black;border-radius: 0.25em;box-sizing: border-box;margin-bottom: 0.5em;}#sk-container-id-20 div.sk-estimator:hover {background-color: #d4ebff;}#sk-container-id-20 div.sk-parallel-item::after {content: \"\";width: 100%;border-bottom: 1px solid gray;flex-grow: 1;}#sk-container-id-20 div.sk-label:hover label.sk-toggleable__label {background-color: #d4ebff;}#sk-container-id-20 div.sk-serial::before {content: \"\";position: absolute;border-left: 1px solid gray;box-sizing: border-box;top: 0;bottom: 0;left: 50%;z-index: 0;}#sk-container-id-20 div.sk-serial {display: flex;flex-direction: column;align-items: center;background-color: white;padding-right: 0.2em;padding-left: 0.2em;position: relative;}#sk-container-id-20 div.sk-item {position: relative;z-index: 1;}#sk-container-id-20 div.sk-parallel {display: flex;align-items: stretch;justify-content: center;background-color: white;position: relative;}#sk-container-id-20 div.sk-item::before, #sk-container-id-20 div.sk-parallel-item::before {content: \"\";position: absolute;border-left: 1px solid gray;box-sizing: border-box;top: 0;bottom: 0;left: 50%;z-index: -1;}#sk-container-id-20 div.sk-parallel-item {display: flex;flex-direction: column;z-index: 1;position: relative;background-color: white;}#sk-container-id-20 div.sk-parallel-item:first-child::after {align-self: flex-end;width: 50%;}#sk-container-id-20 div.sk-parallel-item:last-child::after {align-self: flex-start;width: 50%;}#sk-container-id-20 div.sk-parallel-item:only-child::after {width: 0;}#sk-container-id-20 div.sk-dashed-wrapped {border: 1px dashed gray;margin: 0 0.4em 0.5em 0.4em;box-sizing: border-box;padding-bottom: 0.4em;background-color: white;}#sk-container-id-20 div.sk-label label {font-family: monospace;font-weight: bold;display: inline-block;line-height: 1.2em;}#sk-container-id-20 div.sk-label-container {text-align: center;}#sk-container-id-20 div.sk-container {/* jupyter's `normalize.less` sets `[hidden] { display: none; }` but bootstrap.min.css set `[hidden] { display: none !important; }` so we also need the `!important` here to be able to override the default hidden behavior on the sphinx rendered scikit-learn.org. See: https://github.com/scikit-learn/scikit-learn/issues/21755 */display: inline-block !important;position: relative;}#sk-container-id-20 div.sk-text-repr-fallback {display: none;}</style><div id=\"sk-container-id-20\" class=\"sk-top-container\"><div class=\"sk-text-repr-fallback\"><pre>GridSearchCV(estimator=LogisticRegression(),\n",
       "             param_grid={&#x27;C&#x27;: [0.1, 1, 10],\n",
       "                         &#x27;penalty&#x27;: [&#x27;l1&#x27;, &#x27;l2&#x27;, &#x27;elasticnet&#x27;],\n",
       "                         &#x27;solver&#x27;: [&#x27;lbfgs&#x27;, &#x27;liblinear&#x27;, &#x27;sag&#x27;, &#x27;saga&#x27;]},\n",
       "             scoring=&#x27;f1&#x27;)</pre><b>In a Jupyter environment, please rerun this cell to show the HTML representation or trust the notebook. <br />On GitHub, the HTML representation is unable to render, please try loading this page with nbviewer.org.</b></div><div class=\"sk-container\" hidden><div class=\"sk-item sk-dashed-wrapped\"><div class=\"sk-label-container\"><div class=\"sk-label sk-toggleable\"><input class=\"sk-toggleable__control sk-hidden--visually\" id=\"sk-estimator-id-58\" type=\"checkbox\" ><label for=\"sk-estimator-id-58\" class=\"sk-toggleable__label sk-toggleable__label-arrow\">GridSearchCV</label><div class=\"sk-toggleable__content\"><pre>GridSearchCV(estimator=LogisticRegression(),\n",
       "             param_grid={&#x27;C&#x27;: [0.1, 1, 10],\n",
       "                         &#x27;penalty&#x27;: [&#x27;l1&#x27;, &#x27;l2&#x27;, &#x27;elasticnet&#x27;],\n",
       "                         &#x27;solver&#x27;: [&#x27;lbfgs&#x27;, &#x27;liblinear&#x27;, &#x27;sag&#x27;, &#x27;saga&#x27;]},\n",
       "             scoring=&#x27;f1&#x27;)</pre></div></div></div><div class=\"sk-parallel\"><div class=\"sk-parallel-item\"><div class=\"sk-item\"><div class=\"sk-label-container\"><div class=\"sk-label sk-toggleable\"><input class=\"sk-toggleable__control sk-hidden--visually\" id=\"sk-estimator-id-59\" type=\"checkbox\" ><label for=\"sk-estimator-id-59\" class=\"sk-toggleable__label sk-toggleable__label-arrow\">estimator: LogisticRegression</label><div class=\"sk-toggleable__content\"><pre>LogisticRegression()</pre></div></div></div><div class=\"sk-serial\"><div class=\"sk-item\"><div class=\"sk-estimator sk-toggleable\"><input class=\"sk-toggleable__control sk-hidden--visually\" id=\"sk-estimator-id-60\" type=\"checkbox\" ><label for=\"sk-estimator-id-60\" class=\"sk-toggleable__label sk-toggleable__label-arrow\">LogisticRegression</label><div class=\"sk-toggleable__content\"><pre>LogisticRegression()</pre></div></div></div></div></div></div></div></div></div></div>"
      ],
      "text/plain": [
       "GridSearchCV(estimator=LogisticRegression(),\n",
       "             param_grid={'C': [0.1, 1, 10],\n",
       "                         'penalty': ['l1', 'l2', 'elasticnet'],\n",
       "                         'solver': ['lbfgs', 'liblinear', 'sag', 'saga']},\n",
       "             scoring='f1')"
      ]
     },
     "execution_count": 164,
     "metadata": {},
     "output_type": "execute_result"
    }
   ],
   "source": [
    "from sklearn.linear_model import LogisticRegression\n",
    "from sklearn.model_selection import GridSearchCV\n",
    "\n",
    "\n",
    "parameters = {'C': [0.1, 1, 10],\n",
    "    'penalty' : ['l1', 'l2', 'elasticnet'], \n",
    "              'solver': ['lbfgs', 'liblinear', 'sag', 'saga']}\n",
    "              \n",
    "lr = LogisticRegression()\n",
    "grid = GridSearchCV(estimator=lr, param_grid = parameters, scoring=\"f1\")\n",
    "grid.fit(X_train, y_train)"
   ]
  },
  {
   "cell_type": "code",
   "execution_count": 165,
   "id": "35f611fb",
   "metadata": {},
   "outputs": [
    {
     "name": "stdout",
     "output_type": "stream",
     "text": [
      "Best parameters :  {'C': 1, 'penalty': 'l2', 'solver': 'liblinear'}\n",
      "train_score :  0.6104439717285391\n",
      "test_score :  0.5985787473144936\n"
     ]
    }
   ],
   "source": [
    "# Mostrando los mejores hiperparámetros\n",
    "print('Best parameters : ', grid.best_params_)\n",
    "print('train_score : ', grid.score(X_train, y_train))\n",
    "print('test_score : ', grid.score(X_test, y_test))"
   ]
  },
  {
   "cell_type": "code",
   "execution_count": 166,
   "id": "f4e5343f",
   "metadata": {},
   "outputs": [],
   "source": [
    "# Guardando los resultados\n",
    "training_score_lg = grid.score(X_train, y_train)\n",
    "test_score_lg = grid.score(X_test, y_test)\n",
    "training_scores.append(training_score_lg )\n",
    "test_scores.append(test_score_lg)"
   ]
  },
  {
   "attachments": {},
   "cell_type": "markdown",
   "id": "9934c667",
   "metadata": {},
   "source": [
    "##### K-Nearest Neighbor"
   ]
  },
  {
   "attachments": {},
   "cell_type": "markdown",
   "id": "93324499",
   "metadata": {},
   "source": [
    "Este es el segundo algoritmo que se entrenará. A diferencia del anterior, este no es paramétrico, sino  que guarda en su memoria todos los datos para luego usarlos al realizar la predicción."
   ]
  },
  {
   "cell_type": "code",
   "execution_count": 167,
   "id": "7d9bff4f-a0ed-4c4a-8f67-9864f211b018",
   "metadata": {},
   "outputs": [
    {
     "data": {
      "text/html": [
       "<style>#sk-container-id-21 {color: black;background-color: white;}#sk-container-id-21 pre{padding: 0;}#sk-container-id-21 div.sk-toggleable {background-color: white;}#sk-container-id-21 label.sk-toggleable__label {cursor: pointer;display: block;width: 100%;margin-bottom: 0;padding: 0.3em;box-sizing: border-box;text-align: center;}#sk-container-id-21 label.sk-toggleable__label-arrow:before {content: \"▸\";float: left;margin-right: 0.25em;color: #696969;}#sk-container-id-21 label.sk-toggleable__label-arrow:hover:before {color: black;}#sk-container-id-21 div.sk-estimator:hover label.sk-toggleable__label-arrow:before {color: black;}#sk-container-id-21 div.sk-toggleable__content {max-height: 0;max-width: 0;overflow: hidden;text-align: left;background-color: #f0f8ff;}#sk-container-id-21 div.sk-toggleable__content pre {margin: 0.2em;color: black;border-radius: 0.25em;background-color: #f0f8ff;}#sk-container-id-21 input.sk-toggleable__control:checked~div.sk-toggleable__content {max-height: 200px;max-width: 100%;overflow: auto;}#sk-container-id-21 input.sk-toggleable__control:checked~label.sk-toggleable__label-arrow:before {content: \"▾\";}#sk-container-id-21 div.sk-estimator input.sk-toggleable__control:checked~label.sk-toggleable__label {background-color: #d4ebff;}#sk-container-id-21 div.sk-label input.sk-toggleable__control:checked~label.sk-toggleable__label {background-color: #d4ebff;}#sk-container-id-21 input.sk-hidden--visually {border: 0;clip: rect(1px 1px 1px 1px);clip: rect(1px, 1px, 1px, 1px);height: 1px;margin: -1px;overflow: hidden;padding: 0;position: absolute;width: 1px;}#sk-container-id-21 div.sk-estimator {font-family: monospace;background-color: #f0f8ff;border: 1px dotted black;border-radius: 0.25em;box-sizing: border-box;margin-bottom: 0.5em;}#sk-container-id-21 div.sk-estimator:hover {background-color: #d4ebff;}#sk-container-id-21 div.sk-parallel-item::after {content: \"\";width: 100%;border-bottom: 1px solid gray;flex-grow: 1;}#sk-container-id-21 div.sk-label:hover label.sk-toggleable__label {background-color: #d4ebff;}#sk-container-id-21 div.sk-serial::before {content: \"\";position: absolute;border-left: 1px solid gray;box-sizing: border-box;top: 0;bottom: 0;left: 50%;z-index: 0;}#sk-container-id-21 div.sk-serial {display: flex;flex-direction: column;align-items: center;background-color: white;padding-right: 0.2em;padding-left: 0.2em;position: relative;}#sk-container-id-21 div.sk-item {position: relative;z-index: 1;}#sk-container-id-21 div.sk-parallel {display: flex;align-items: stretch;justify-content: center;background-color: white;position: relative;}#sk-container-id-21 div.sk-item::before, #sk-container-id-21 div.sk-parallel-item::before {content: \"\";position: absolute;border-left: 1px solid gray;box-sizing: border-box;top: 0;bottom: 0;left: 50%;z-index: -1;}#sk-container-id-21 div.sk-parallel-item {display: flex;flex-direction: column;z-index: 1;position: relative;background-color: white;}#sk-container-id-21 div.sk-parallel-item:first-child::after {align-self: flex-end;width: 50%;}#sk-container-id-21 div.sk-parallel-item:last-child::after {align-self: flex-start;width: 50%;}#sk-container-id-21 div.sk-parallel-item:only-child::after {width: 0;}#sk-container-id-21 div.sk-dashed-wrapped {border: 1px dashed gray;margin: 0 0.4em 0.5em 0.4em;box-sizing: border-box;padding-bottom: 0.4em;background-color: white;}#sk-container-id-21 div.sk-label label {font-family: monospace;font-weight: bold;display: inline-block;line-height: 1.2em;}#sk-container-id-21 div.sk-label-container {text-align: center;}#sk-container-id-21 div.sk-container {/* jupyter's `normalize.less` sets `[hidden] { display: none; }` but bootstrap.min.css set `[hidden] { display: none !important; }` so we also need the `!important` here to be able to override the default hidden behavior on the sphinx rendered scikit-learn.org. See: https://github.com/scikit-learn/scikit-learn/issues/21755 */display: inline-block !important;position: relative;}#sk-container-id-21 div.sk-text-repr-fallback {display: none;}</style><div id=\"sk-container-id-21\" class=\"sk-top-container\"><div class=\"sk-text-repr-fallback\"><pre>GridSearchCV(estimator=KNeighborsClassifier(),\n",
       "             param_grid={&#x27;n_neighbors&#x27;: [3, 4, 5, 6]}, scoring=&#x27;f1&#x27;)</pre><b>In a Jupyter environment, please rerun this cell to show the HTML representation or trust the notebook. <br />On GitHub, the HTML representation is unable to render, please try loading this page with nbviewer.org.</b></div><div class=\"sk-container\" hidden><div class=\"sk-item sk-dashed-wrapped\"><div class=\"sk-label-container\"><div class=\"sk-label sk-toggleable\"><input class=\"sk-toggleable__control sk-hidden--visually\" id=\"sk-estimator-id-61\" type=\"checkbox\" ><label for=\"sk-estimator-id-61\" class=\"sk-toggleable__label sk-toggleable__label-arrow\">GridSearchCV</label><div class=\"sk-toggleable__content\"><pre>GridSearchCV(estimator=KNeighborsClassifier(),\n",
       "             param_grid={&#x27;n_neighbors&#x27;: [3, 4, 5, 6]}, scoring=&#x27;f1&#x27;)</pre></div></div></div><div class=\"sk-parallel\"><div class=\"sk-parallel-item\"><div class=\"sk-item\"><div class=\"sk-label-container\"><div class=\"sk-label sk-toggleable\"><input class=\"sk-toggleable__control sk-hidden--visually\" id=\"sk-estimator-id-62\" type=\"checkbox\" ><label for=\"sk-estimator-id-62\" class=\"sk-toggleable__label sk-toggleable__label-arrow\">estimator: KNeighborsClassifier</label><div class=\"sk-toggleable__content\"><pre>KNeighborsClassifier()</pre></div></div></div><div class=\"sk-serial\"><div class=\"sk-item\"><div class=\"sk-estimator sk-toggleable\"><input class=\"sk-toggleable__control sk-hidden--visually\" id=\"sk-estimator-id-63\" type=\"checkbox\" ><label for=\"sk-estimator-id-63\" class=\"sk-toggleable__label sk-toggleable__label-arrow\">KNeighborsClassifier</label><div class=\"sk-toggleable__content\"><pre>KNeighborsClassifier()</pre></div></div></div></div></div></div></div></div></div></div>"
      ],
      "text/plain": [
       "GridSearchCV(estimator=KNeighborsClassifier(),\n",
       "             param_grid={'n_neighbors': [3, 4, 5, 6]}, scoring='f1')"
      ]
     },
     "execution_count": 167,
     "metadata": {},
     "output_type": "execute_result"
    }
   ],
   "source": [
    "from sklearn.neighbors import KNeighborsClassifier\n",
    "\n",
    "params = {'n_neighbors' : [3,4,5,6,]}\n",
    "kneigh = KNeighborsClassifier()\n",
    "grid = GridSearchCV(estimator=kneigh, param_grid=params, scoring=\"f1\")\n",
    "grid.fit(X_train, y_train)"
   ]
  },
  {
   "cell_type": "code",
   "execution_count": 168,
   "id": "9ab6aa04-41be-42f0-a752-50f71524828c",
   "metadata": {},
   "outputs": [
    {
     "name": "stdout",
     "output_type": "stream",
     "text": [
      "Best parameters :  {'n_neighbors': 3}\n",
      "train_score :  0.8400024662432949\n",
      "test_score :  0.7022496691662992\n"
     ]
    }
   ],
   "source": [
    "#Scores:\n",
    "print('Best parameters : ', grid.best_params_)\n",
    "print('train_score : ', grid.score(X_train, y_train))\n",
    "print('test_score : ', grid.score(X_test, y_test))\n"
   ]
  },
  {
   "cell_type": "code",
   "execution_count": 169,
   "id": "ad543c06",
   "metadata": {},
   "outputs": [],
   "source": [
    "# Guardando los resultados\n",
    "training_score_knn = grid.score(X_train, y_train)\n",
    "test_score_knn = grid.score(X_test, y_test)\n",
    "training_scores.append(training_score_knn )\n",
    "test_scores.append(test_score_knn)"
   ]
  },
  {
   "attachments": {},
   "cell_type": "markdown",
   "id": "92d32dec",
   "metadata": {},
   "source": [
    "##### Extra Trees Classifier"
   ]
  },
  {
   "attachments": {},
   "cell_type": "markdown",
   "id": "23a7b3d1",
   "metadata": {},
   "source": [
    "Este es una mejora respecto al algoritmo \"Random Forest\" en el cual se añade todavia más aleatoriedad al modelo. Como consecuencia, es más robusto contra overfitting."
   ]
  },
  {
   "cell_type": "code",
   "execution_count": 170,
   "id": "0476f1b1-c7fe-4302-8fd7-3eeb8b5de6dd",
   "metadata": {},
   "outputs": [
    {
     "data": {
      "text/html": [
       "<style>#sk-container-id-22 {color: black;background-color: white;}#sk-container-id-22 pre{padding: 0;}#sk-container-id-22 div.sk-toggleable {background-color: white;}#sk-container-id-22 label.sk-toggleable__label {cursor: pointer;display: block;width: 100%;margin-bottom: 0;padding: 0.3em;box-sizing: border-box;text-align: center;}#sk-container-id-22 label.sk-toggleable__label-arrow:before {content: \"▸\";float: left;margin-right: 0.25em;color: #696969;}#sk-container-id-22 label.sk-toggleable__label-arrow:hover:before {color: black;}#sk-container-id-22 div.sk-estimator:hover label.sk-toggleable__label-arrow:before {color: black;}#sk-container-id-22 div.sk-toggleable__content {max-height: 0;max-width: 0;overflow: hidden;text-align: left;background-color: #f0f8ff;}#sk-container-id-22 div.sk-toggleable__content pre {margin: 0.2em;color: black;border-radius: 0.25em;background-color: #f0f8ff;}#sk-container-id-22 input.sk-toggleable__control:checked~div.sk-toggleable__content {max-height: 200px;max-width: 100%;overflow: auto;}#sk-container-id-22 input.sk-toggleable__control:checked~label.sk-toggleable__label-arrow:before {content: \"▾\";}#sk-container-id-22 div.sk-estimator input.sk-toggleable__control:checked~label.sk-toggleable__label {background-color: #d4ebff;}#sk-container-id-22 div.sk-label input.sk-toggleable__control:checked~label.sk-toggleable__label {background-color: #d4ebff;}#sk-container-id-22 input.sk-hidden--visually {border: 0;clip: rect(1px 1px 1px 1px);clip: rect(1px, 1px, 1px, 1px);height: 1px;margin: -1px;overflow: hidden;padding: 0;position: absolute;width: 1px;}#sk-container-id-22 div.sk-estimator {font-family: monospace;background-color: #f0f8ff;border: 1px dotted black;border-radius: 0.25em;box-sizing: border-box;margin-bottom: 0.5em;}#sk-container-id-22 div.sk-estimator:hover {background-color: #d4ebff;}#sk-container-id-22 div.sk-parallel-item::after {content: \"\";width: 100%;border-bottom: 1px solid gray;flex-grow: 1;}#sk-container-id-22 div.sk-label:hover label.sk-toggleable__label {background-color: #d4ebff;}#sk-container-id-22 div.sk-serial::before {content: \"\";position: absolute;border-left: 1px solid gray;box-sizing: border-box;top: 0;bottom: 0;left: 50%;z-index: 0;}#sk-container-id-22 div.sk-serial {display: flex;flex-direction: column;align-items: center;background-color: white;padding-right: 0.2em;padding-left: 0.2em;position: relative;}#sk-container-id-22 div.sk-item {position: relative;z-index: 1;}#sk-container-id-22 div.sk-parallel {display: flex;align-items: stretch;justify-content: center;background-color: white;position: relative;}#sk-container-id-22 div.sk-item::before, #sk-container-id-22 div.sk-parallel-item::before {content: \"\";position: absolute;border-left: 1px solid gray;box-sizing: border-box;top: 0;bottom: 0;left: 50%;z-index: -1;}#sk-container-id-22 div.sk-parallel-item {display: flex;flex-direction: column;z-index: 1;position: relative;background-color: white;}#sk-container-id-22 div.sk-parallel-item:first-child::after {align-self: flex-end;width: 50%;}#sk-container-id-22 div.sk-parallel-item:last-child::after {align-self: flex-start;width: 50%;}#sk-container-id-22 div.sk-parallel-item:only-child::after {width: 0;}#sk-container-id-22 div.sk-dashed-wrapped {border: 1px dashed gray;margin: 0 0.4em 0.5em 0.4em;box-sizing: border-box;padding-bottom: 0.4em;background-color: white;}#sk-container-id-22 div.sk-label label {font-family: monospace;font-weight: bold;display: inline-block;line-height: 1.2em;}#sk-container-id-22 div.sk-label-container {text-align: center;}#sk-container-id-22 div.sk-container {/* jupyter's `normalize.less` sets `[hidden] { display: none; }` but bootstrap.min.css set `[hidden] { display: none !important; }` so we also need the `!important` here to be able to override the default hidden behavior on the sphinx rendered scikit-learn.org. See: https://github.com/scikit-learn/scikit-learn/issues/21755 */display: inline-block !important;position: relative;}#sk-container-id-22 div.sk-text-repr-fallback {display: none;}</style><div id=\"sk-container-id-22\" class=\"sk-top-container\"><div class=\"sk-text-repr-fallback\"><pre>GridSearchCV(estimator=ExtraTreesClassifier(),\n",
       "             param_grid={&#x27;max_depth&#x27;: [3, 4, None],\n",
       "                         &#x27;n_estimators&#x27;: [25, 50, 75, 100, 125]},\n",
       "             scoring=&#x27;f1&#x27;)</pre><b>In a Jupyter environment, please rerun this cell to show the HTML representation or trust the notebook. <br />On GitHub, the HTML representation is unable to render, please try loading this page with nbviewer.org.</b></div><div class=\"sk-container\" hidden><div class=\"sk-item sk-dashed-wrapped\"><div class=\"sk-label-container\"><div class=\"sk-label sk-toggleable\"><input class=\"sk-toggleable__control sk-hidden--visually\" id=\"sk-estimator-id-64\" type=\"checkbox\" ><label for=\"sk-estimator-id-64\" class=\"sk-toggleable__label sk-toggleable__label-arrow\">GridSearchCV</label><div class=\"sk-toggleable__content\"><pre>GridSearchCV(estimator=ExtraTreesClassifier(),\n",
       "             param_grid={&#x27;max_depth&#x27;: [3, 4, None],\n",
       "                         &#x27;n_estimators&#x27;: [25, 50, 75, 100, 125]},\n",
       "             scoring=&#x27;f1&#x27;)</pre></div></div></div><div class=\"sk-parallel\"><div class=\"sk-parallel-item\"><div class=\"sk-item\"><div class=\"sk-label-container\"><div class=\"sk-label sk-toggleable\"><input class=\"sk-toggleable__control sk-hidden--visually\" id=\"sk-estimator-id-65\" type=\"checkbox\" ><label for=\"sk-estimator-id-65\" class=\"sk-toggleable__label sk-toggleable__label-arrow\">estimator: ExtraTreesClassifier</label><div class=\"sk-toggleable__content\"><pre>ExtraTreesClassifier()</pre></div></div></div><div class=\"sk-serial\"><div class=\"sk-item\"><div class=\"sk-estimator sk-toggleable\"><input class=\"sk-toggleable__control sk-hidden--visually\" id=\"sk-estimator-id-66\" type=\"checkbox\" ><label for=\"sk-estimator-id-66\" class=\"sk-toggleable__label sk-toggleable__label-arrow\">ExtraTreesClassifier</label><div class=\"sk-toggleable__content\"><pre>ExtraTreesClassifier()</pre></div></div></div></div></div></div></div></div></div></div>"
      ],
      "text/plain": [
       "GridSearchCV(estimator=ExtraTreesClassifier(),\n",
       "             param_grid={'max_depth': [3, 4, None],\n",
       "                         'n_estimators': [25, 50, 75, 100, 125]},\n",
       "             scoring='f1')"
      ]
     },
     "execution_count": 170,
     "metadata": {},
     "output_type": "execute_result"
    }
   ],
   "source": [
    "from sklearn.ensemble import ExtraTreesClassifier\n",
    "from sklearn.model_selection import GridSearchCV\n",
    "\n",
    "clf = ExtraTreesClassifier()\n",
    "params = {'n_estimators' : [25,50,75,100,125], 'max_depth' : [3,4,None]}\n",
    "grid = GridSearchCV(estimator = clf, param_grid = params, scoring=\"f1\")\n",
    "grid.fit(X_train, y_train)"
   ]
  },
  {
   "cell_type": "code",
   "execution_count": 171,
   "id": "fecdfa70-abb4-4d17-b6a6-d7ef8bd55c69",
   "metadata": {},
   "outputs": [
    {
     "name": "stdout",
     "output_type": "stream",
     "text": [
      "Best parameters :  {'max_depth': None, 'n_estimators': 75}\n",
      "train_score :  0.9784459337076616\n",
      "test_score :  0.7763984226668614\n"
     ]
    }
   ],
   "source": [
    "#Scores:\n",
    "print('Best parameters : ', grid.best_params_)\n",
    "print('train_score : ', grid.score(X_train, y_train))\n",
    "print('test_score : ', grid.score(X_test, y_test))"
   ]
  },
  {
   "cell_type": "code",
   "execution_count": 172,
   "id": "89944aa0",
   "metadata": {},
   "outputs": [],
   "source": [
    "# Guardando los resultados\n",
    "training_score_rt = grid.score(X_train, y_train)\n",
    "test_score_rt = grid.score(X_test, y_test)\n",
    "training_scores.append(training_score_rt )\n",
    "test_scores.append(test_score_rt)"
   ]
  },
  {
   "attachments": {},
   "cell_type": "markdown",
   "id": "d1ef8b2e",
   "metadata": {},
   "source": [
    "##### Gradient Boosting"
   ]
  },
  {
   "attachments": {},
   "cell_type": "markdown",
   "id": "41501c7d",
   "metadata": {},
   "source": [
    "Este modelo, al igual que el \"Extra Tree Classifier\", es un algoritmo \"Ensemble\". Esto quiere decir que esta constituido por varios modelos simples, que en conjunto forman un modelo robusto. "
   ]
  },
  {
   "cell_type": "code",
   "execution_count": 173,
   "id": "cb3533b1-e3fb-4fa3-afec-59539e234af2",
   "metadata": {},
   "outputs": [
    {
     "data": {
      "text/html": [
       "<style>#sk-container-id-23 {color: black;background-color: white;}#sk-container-id-23 pre{padding: 0;}#sk-container-id-23 div.sk-toggleable {background-color: white;}#sk-container-id-23 label.sk-toggleable__label {cursor: pointer;display: block;width: 100%;margin-bottom: 0;padding: 0.3em;box-sizing: border-box;text-align: center;}#sk-container-id-23 label.sk-toggleable__label-arrow:before {content: \"▸\";float: left;margin-right: 0.25em;color: #696969;}#sk-container-id-23 label.sk-toggleable__label-arrow:hover:before {color: black;}#sk-container-id-23 div.sk-estimator:hover label.sk-toggleable__label-arrow:before {color: black;}#sk-container-id-23 div.sk-toggleable__content {max-height: 0;max-width: 0;overflow: hidden;text-align: left;background-color: #f0f8ff;}#sk-container-id-23 div.sk-toggleable__content pre {margin: 0.2em;color: black;border-radius: 0.25em;background-color: #f0f8ff;}#sk-container-id-23 input.sk-toggleable__control:checked~div.sk-toggleable__content {max-height: 200px;max-width: 100%;overflow: auto;}#sk-container-id-23 input.sk-toggleable__control:checked~label.sk-toggleable__label-arrow:before {content: \"▾\";}#sk-container-id-23 div.sk-estimator input.sk-toggleable__control:checked~label.sk-toggleable__label {background-color: #d4ebff;}#sk-container-id-23 div.sk-label input.sk-toggleable__control:checked~label.sk-toggleable__label {background-color: #d4ebff;}#sk-container-id-23 input.sk-hidden--visually {border: 0;clip: rect(1px 1px 1px 1px);clip: rect(1px, 1px, 1px, 1px);height: 1px;margin: -1px;overflow: hidden;padding: 0;position: absolute;width: 1px;}#sk-container-id-23 div.sk-estimator {font-family: monospace;background-color: #f0f8ff;border: 1px dotted black;border-radius: 0.25em;box-sizing: border-box;margin-bottom: 0.5em;}#sk-container-id-23 div.sk-estimator:hover {background-color: #d4ebff;}#sk-container-id-23 div.sk-parallel-item::after {content: \"\";width: 100%;border-bottom: 1px solid gray;flex-grow: 1;}#sk-container-id-23 div.sk-label:hover label.sk-toggleable__label {background-color: #d4ebff;}#sk-container-id-23 div.sk-serial::before {content: \"\";position: absolute;border-left: 1px solid gray;box-sizing: border-box;top: 0;bottom: 0;left: 50%;z-index: 0;}#sk-container-id-23 div.sk-serial {display: flex;flex-direction: column;align-items: center;background-color: white;padding-right: 0.2em;padding-left: 0.2em;position: relative;}#sk-container-id-23 div.sk-item {position: relative;z-index: 1;}#sk-container-id-23 div.sk-parallel {display: flex;align-items: stretch;justify-content: center;background-color: white;position: relative;}#sk-container-id-23 div.sk-item::before, #sk-container-id-23 div.sk-parallel-item::before {content: \"\";position: absolute;border-left: 1px solid gray;box-sizing: border-box;top: 0;bottom: 0;left: 50%;z-index: -1;}#sk-container-id-23 div.sk-parallel-item {display: flex;flex-direction: column;z-index: 1;position: relative;background-color: white;}#sk-container-id-23 div.sk-parallel-item:first-child::after {align-self: flex-end;width: 50%;}#sk-container-id-23 div.sk-parallel-item:last-child::after {align-self: flex-start;width: 50%;}#sk-container-id-23 div.sk-parallel-item:only-child::after {width: 0;}#sk-container-id-23 div.sk-dashed-wrapped {border: 1px dashed gray;margin: 0 0.4em 0.5em 0.4em;box-sizing: border-box;padding-bottom: 0.4em;background-color: white;}#sk-container-id-23 div.sk-label label {font-family: monospace;font-weight: bold;display: inline-block;line-height: 1.2em;}#sk-container-id-23 div.sk-label-container {text-align: center;}#sk-container-id-23 div.sk-container {/* jupyter's `normalize.less` sets `[hidden] { display: none; }` but bootstrap.min.css set `[hidden] { display: none !important; }` so we also need the `!important` here to be able to override the default hidden behavior on the sphinx rendered scikit-learn.org. See: https://github.com/scikit-learn/scikit-learn/issues/21755 */display: inline-block !important;position: relative;}#sk-container-id-23 div.sk-text-repr-fallback {display: none;}</style><div id=\"sk-container-id-23\" class=\"sk-top-container\"><div class=\"sk-text-repr-fallback\"><pre>GridSearchCV(estimator=GradientBoostingClassifier(),\n",
       "             param_grid={&#x27;learning_rate&#x27;: [0.1, 1],\n",
       "                         &#x27;n_estimators&#x27;: [500, 600, 700]},\n",
       "             scoring=&#x27;f1&#x27;)</pre><b>In a Jupyter environment, please rerun this cell to show the HTML representation or trust the notebook. <br />On GitHub, the HTML representation is unable to render, please try loading this page with nbviewer.org.</b></div><div class=\"sk-container\" hidden><div class=\"sk-item sk-dashed-wrapped\"><div class=\"sk-label-container\"><div class=\"sk-label sk-toggleable\"><input class=\"sk-toggleable__control sk-hidden--visually\" id=\"sk-estimator-id-67\" type=\"checkbox\" ><label for=\"sk-estimator-id-67\" class=\"sk-toggleable__label sk-toggleable__label-arrow\">GridSearchCV</label><div class=\"sk-toggleable__content\"><pre>GridSearchCV(estimator=GradientBoostingClassifier(),\n",
       "             param_grid={&#x27;learning_rate&#x27;: [0.1, 1],\n",
       "                         &#x27;n_estimators&#x27;: [500, 600, 700]},\n",
       "             scoring=&#x27;f1&#x27;)</pre></div></div></div><div class=\"sk-parallel\"><div class=\"sk-parallel-item\"><div class=\"sk-item\"><div class=\"sk-label-container\"><div class=\"sk-label sk-toggleable\"><input class=\"sk-toggleable__control sk-hidden--visually\" id=\"sk-estimator-id-68\" type=\"checkbox\" ><label for=\"sk-estimator-id-68\" class=\"sk-toggleable__label sk-toggleable__label-arrow\">estimator: GradientBoostingClassifier</label><div class=\"sk-toggleable__content\"><pre>GradientBoostingClassifier()</pre></div></div></div><div class=\"sk-serial\"><div class=\"sk-item\"><div class=\"sk-estimator sk-toggleable\"><input class=\"sk-toggleable__control sk-hidden--visually\" id=\"sk-estimator-id-69\" type=\"checkbox\" ><label for=\"sk-estimator-id-69\" class=\"sk-toggleable__label sk-toggleable__label-arrow\">GradientBoostingClassifier</label><div class=\"sk-toggleable__content\"><pre>GradientBoostingClassifier()</pre></div></div></div></div></div></div></div></div></div></div>"
      ],
      "text/plain": [
       "GridSearchCV(estimator=GradientBoostingClassifier(),\n",
       "             param_grid={'learning_rate': [0.1, 1],\n",
       "                         'n_estimators': [500, 600, 700]},\n",
       "             scoring='f1')"
      ]
     },
     "execution_count": 173,
     "metadata": {},
     "output_type": "execute_result"
    }
   ],
   "source": [
    "from sklearn.ensemble import GradientBoostingClassifier\n",
    "\n",
    "clf = GradientBoostingClassifier()\n",
    "param = {'learning_rate' : [0.1, 1], 'n_estimators' : [500, 600, 700]}\n",
    "grid = GridSearchCV(estimator=clf, param_grid=param, scoring=\"f1\")\n",
    "grid.fit(X_train, y_train)"
   ]
  },
  {
   "cell_type": "code",
   "execution_count": 174,
   "id": "98ef1149-2654-49bb-b9c1-d4d8c747549f",
   "metadata": {
    "tags": []
   },
   "outputs": [
    {
     "name": "stdout",
     "output_type": "stream",
     "text": [
      "Best parameters :  {'learning_rate': 1, 'n_estimators': 600}\n",
      "train_score :  0.881765503637036\n",
      "test_score :  0.7765017667844524\n"
     ]
    }
   ],
   "source": [
    "print('Best parameters : ', grid.best_params_)\n",
    "print('train_score : ', grid.score(X_train, y_train))\n",
    "print('test_score : ', grid.score(X_test, y_test))"
   ]
  },
  {
   "cell_type": "code",
   "execution_count": 175,
   "id": "ab3050ef",
   "metadata": {},
   "outputs": [],
   "source": [
    "# Guardando los resultados\n",
    "training_score_gb = grid.score(X_train, y_train)\n",
    "test_score_gb = grid.score(X_test, y_test)\n",
    "training_scores.append(training_score_gb )\n",
    "test_scores.append(test_score_gb)"
   ]
  },
  {
   "attachments": {},
   "cell_type": "markdown",
   "id": "cab75e22",
   "metadata": {},
   "source": [
    "#### Evaluación"
   ]
  },
  {
   "attachments": {},
   "cell_type": "markdown",
   "id": "162c5c1a",
   "metadata": {},
   "source": [
    "Una vez escogido los mejores modelos para cada algortimo, esto mediante el uso de Grid Seach, se procede a compararlos. Se utiliza la métrica \"f1\" para hacer la comparación. Esta métrica se usa debido a que se tiene un ligero desbalance en la variable objetivo."
   ]
  },
  {
   "cell_type": "code",
   "execution_count": 176,
   "id": "323ad158",
   "metadata": {},
   "outputs": [
    {
     "data": {
      "text/plain": [
       "0.7765017667844524"
      ]
     },
     "execution_count": 176,
     "metadata": {},
     "output_type": "execute_result"
    }
   ],
   "source": [
    "test_score_gb"
   ]
  },
  {
   "cell_type": "code",
   "execution_count": 177,
   "id": "a6537aac-d146-45fa-a529-f426e6759ead",
   "metadata": {},
   "outputs": [
    {
     "data": {
      "text/html": [
       "<div>\n",
       "<style scoped>\n",
       "    .dataframe tbody tr th:only-of-type {\n",
       "        vertical-align: middle;\n",
       "    }\n",
       "\n",
       "    .dataframe tbody tr th {\n",
       "        vertical-align: top;\n",
       "    }\n",
       "\n",
       "    .dataframe thead th {\n",
       "        text-align: right;\n",
       "    }\n",
       "</style>\n",
       "<table border=\"1\" class=\"dataframe\">\n",
       "  <thead>\n",
       "    <tr style=\"text-align: right;\">\n",
       "      <th></th>\n",
       "      <th>Algorithm</th>\n",
       "      <th>Train_score</th>\n",
       "      <th>Test_score</th>\n",
       "    </tr>\n",
       "  </thead>\n",
       "  <tbody>\n",
       "    <tr>\n",
       "      <th>0</th>\n",
       "      <td>Logistic_Regression</td>\n",
       "      <td>0.610444</td>\n",
       "      <td>0.598579</td>\n",
       "    </tr>\n",
       "    <tr>\n",
       "      <th>1</th>\n",
       "      <td>KNN</td>\n",
       "      <td>0.840002</td>\n",
       "      <td>0.702250</td>\n",
       "    </tr>\n",
       "    <tr>\n",
       "      <th>2</th>\n",
       "      <td>ExtraTreesClassifier</td>\n",
       "      <td>0.978446</td>\n",
       "      <td>0.776398</td>\n",
       "    </tr>\n",
       "    <tr>\n",
       "      <th>3</th>\n",
       "      <td>Gradient_Boosting</td>\n",
       "      <td>0.881766</td>\n",
       "      <td>0.776502</td>\n",
       "    </tr>\n",
       "  </tbody>\n",
       "</table>\n",
       "</div>"
      ],
      "text/plain": [
       "              Algorithm  Train_score  Test_score\n",
       "0   Logistic_Regression     0.610444    0.598579\n",
       "1                   KNN     0.840002    0.702250\n",
       "2  ExtraTreesClassifier     0.978446    0.776398\n",
       "3     Gradient_Boosting     0.881766    0.776502"
      ]
     },
     "execution_count": 177,
     "metadata": {},
     "output_type": "execute_result"
    }
   ],
   "source": [
    "data = {'Algorithm': ['Logistic_Regression', 'KNN', 'ExtraTreesClassifier', 'Gradient_Boosting'],\n",
    "        'Train_score': [training_score_lg, training_score_knn, training_score_rt, training_score_gb],\n",
    "        'Test_score': [test_score_lg, test_score_knn, test_score_rt, test_score_gb]}\n",
    "df_scores = pd.DataFrame(data)\n",
    "df_scores"
   ]
  },
  {
   "cell_type": "code",
   "execution_count": 184,
   "id": "b795158f-510a-4d8e-9405-d6a3af50c361",
   "metadata": {},
   "outputs": [
    {
     "data": {
      "image/png": "[encoded data removed]",
      "text/plain": [
       "<Figure size 1000x500 with 2 Axes>"
      ]
     },
     "metadata": {},
     "output_type": "display_data"
    }
   ],
   "source": [
    "# create two plots\n",
    "fig, (ax1, ax2) = plt.subplots(ncols=2, figsize=(10, 5))\n",
    "sns.barplot(x='Algorithm', y='Train_score', ax=ax1, data=df_scores)\n",
    "sns.barplot(x='Algorithm', y='Test_score', ax=ax2, data=df_scores)\n",
    "plt.ylim(0, 1) \n",
    "\n",
    "# set titles for plots\n",
    "ax1.set_title(\"Train_score\")\n",
    "ax2.set_title(\"Test_score\")\n",
    "\n",
    "ax1.set_xticklabels(ax1.get_xticklabels(), rotation=40, ha=\"right\")\n",
    "ax2.set_xticklabels(ax2.get_xticklabels(), rotation=40, ha=\"right\")\n",
    "\n",
    "# display the plots\n",
    "plt.show()"
   ]
  },
  {
   "attachments": {},
   "cell_type": "markdown",
   "id": "ae3c9cb8",
   "metadata": {},
   "source": [
    "Del gráfico anterior, el modelo que mejor se desempeña es \"Gradient Boosting\", este será el modelo seleccionado. Se puede observar que \"Extra Trees Classifier\" se encuentra muy cerca en cuanto a desempeño, sin embargo, este muestra señales de \"overfitting\"."
   ]
  },
  {
   "cell_type": "code",
   "execution_count": 182,
   "id": "a8e9abb7-097f-436f-90cb-a2c6ee39b401",
   "metadata": {},
   "outputs": [
    {
     "name": "stdout",
     "output_type": "stream",
     "text": [
      "train_score :  0.9244643982356647\n",
      "test_score :  0.8606082881558393\n"
     ]
    }
   ],
   "source": [
    "#gradient boosing seems to be the best performing model\n",
    "\n",
    "clf = GradientBoostingClassifier(learning_rate=1, n_estimators=600)\n",
    "\n",
    "clf.fit(X_train, y_train)\n",
    "\n",
    "print('train_score : ', clf.score(X_train, y_train))\n",
    "print('test_score : ', clf.score(X_test, y_test))"
   ]
  },
  {
   "cell_type": "code",
   "execution_count": 183,
   "id": "31d6e79a-c161-4f35-a6f1-2177fe8ec3de",
   "metadata": {},
   "outputs": [
    {
     "name": "stdout",
     "output_type": "stream",
     "text": [
      "              precision    recall  f1-score   support\n",
      "\n",
      "           0       0.89      0.91      0.90      7391\n",
      "           1       0.80      0.76      0.78      3492\n",
      "\n",
      "    accuracy                           0.86     10883\n",
      "   macro avg       0.84      0.83      0.84     10883\n",
      "weighted avg       0.86      0.86      0.86     10883\n",
      "\n",
      "[[6729  662]\n",
      " [ 855 2637]]\n"
     ]
    }
   ],
   "source": [
    "y_test_predict = clf.predict(X_test)\n",
    "df_results = X_test.copy()\n",
    "df_results['y_test'] = y_test\n",
    "df_results['y_test_predict'] = y_test_predict\n",
    "#print(df_results)\n",
    "\n",
    "from sklearn.metrics import classification_report\n",
    "print(classification_report(y_test, y_test_predict))\n",
    "\n",
    "from sklearn.metrics import confusion_matrix\n",
    "print(confusion_matrix(y_test, y_test_predict))"
   ]
  },
  {
   "attachments": {},
   "cell_type": "markdown",
   "id": "44ebcdb9",
   "metadata": {},
   "source": [
    "De los resultados, se puede ver que el modelo se desempeña bastante bien con ambas clases. Si bien la métrica \"recall\" de la clase \"canceled\" (que mide que tan bien clasifica los valores positivos de esta clase) esta baja relativa a la de la clase \"not_canceled\", su valor esta dentro de un margen aceptable."
   ]
  }
 ],
 "metadata": {
  "kernelspec": {
   "display_name": "Python 3 (ipykernel)",
   "language": "python",
   "name": "python3"
  },
  "language_info": {
   "codemirror_mode": {
    "name": "ipython",
    "version": 3
   },
   "file_extension": ".py",
   "mimetype": "text/x-python",
   "name": "python",
   "nbconvert_exporter": "python",
   "pygments_lexer": "ipython3",
   "version": "3.9.16"
  }
 },
 "nbformat": 4,
 "nbformat_minor": 5
}
